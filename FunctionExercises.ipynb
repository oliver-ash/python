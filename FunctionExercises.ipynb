{
 "cells": [
  {
   "cell_type": "code",
   "execution_count": 6,
   "id": "30664457",
   "metadata": {},
   "outputs": [],
   "source": [
    "def greet(name):\n",
    "    print(f'Hello, {name}')"
   ]
  },
  {
   "cell_type": "code",
   "execution_count": 9,
   "id": "6ca86dea",
   "metadata": {},
   "outputs": [],
   "source": [
    "def max_of_two(num1, num2):\n",
    "    if num1 > num2:\n",
    "        print(f'{num1} is greater')\n",
    "    else: \n",
    "        print(f'{num2} is greater')"
   ]
  },
  {
   "cell_type": "code",
   "execution_count": 15,
   "id": "4d1fb27e",
   "metadata": {},
   "outputs": [],
   "source": [
    "def sum_list(list):\n",
    "    total = 0\n",
    "    for item in list:\n",
    "        total = total + item\n",
    "    print(total)"
   ]
  },
  {
   "cell_type": "code",
   "execution_count": 20,
   "id": "c48698a6",
   "metadata": {
    "scrolled": true
   },
   "outputs": [
    {
     "name": "stdout",
     "output_type": "stream",
     "text": [
      "0\n",
      "1\n",
      "2\n",
      "3\n",
      "4\n",
      "5\n"
     ]
    }
   ],
   "source": [
    "def count_up(n):\n",
    "    start = n\n",
    "    for i in range(0, n+1):\n",
    "        print(i)\n",
    "        \n",
    "count_up(5)"
   ]
  },
  {
   "cell_type": "code",
   "execution_count": 25,
   "id": "f49b11da",
   "metadata": {},
   "outputs": [
    {
     "data": {
      "text/plain": [
       "0.0"
      ]
     },
     "execution_count": 25,
     "metadata": {},
     "output_type": "execute_result"
    }
   ],
   "source": [
    "math.remainder(6,2)"
   ]
  },
  {
   "cell_type": "code",
   "execution_count": 29,
   "id": "8c941e5c",
   "metadata": {},
   "outputs": [
    {
     "name": "stdout",
     "output_type": "stream",
     "text": [
      "False\n"
     ]
    }
   ],
   "source": [
    "def is_odd(num):\n",
    "    if math.remainder(num, 2):\n",
    "        return True\n",
    "    else:\n",
    "        return False\n",
    "print(is_odd(4))"
   ]
  },
  {
   "cell_type": "code",
   "execution_count": 31,
   "id": "7c606669",
   "metadata": {},
   "outputs": [],
   "source": [
    "def calculator(num1, num2, operator):\n",
    "    if operator == '+':\n",
    "        return num1 + num2\n",
    "    elif operator == '-':\n",
    "        return num1 - num2\n",
    "    elif operator == '*':\n",
    "        return num1 * num2\n",
    "    elif operator == '/':\n",
    "        if num2 == 0:\n",
    "            raise ValueError('Cannot divide by zero')\n",
    "        return num1 / num2\n",
    "    else:\n",
    "        raise TypeError('Unsupported operator')\n",
    "        "
   ]
  },
  {
   "cell_type": "code",
   "execution_count": null,
   "id": "75b548a3",
   "metadata": {},
   "outputs": [],
   "source": []
  },
  {
   "cell_type": "markdown",
   "id": "d1f28b70",
   "metadata": {},
   "source": [
    "### 1. Hello Function\n",
    "Create a function named `greet` that takes a name as a parameter and prints \"Hello, [name]!\".\n",
    "\n",
    "### 2. Maximum of Two\n",
    "Write a function named `max_of_two` that takes two numbers as parameters and returns the maximum of the two.\n",
    "\n",
    "### 3. Sum of List\n",
    "Create a function named `sum_list` that takes a list of numbers as a parameter and returns the sum of the elements in the list.\n",
    "\n",
    "### 4. Counting Up\n",
    "Write a function named `count_up` that takes an integer `n` and prints all numbers from 1 to `n` using a `for` loop.\n",
    "\n",
    "### 5. Odd or Even\n",
    "Create a function named `is_odd` that takes a number as a parameter and returns `True` if the number is odd, `False` otherwise.\n",
    "\n",
    "### 6. Simple Calculator\n",
    "Write a function named `calculator` that takes three parameters: two numbers and an operation (as a string, e.g., \"+\", \"-\", \"*\", \"/\"). The function should return the result of the operation. Use `if-else` statements to handle different operations.\n",
    "\n",
    "### 7. Multiplication Table\n",
    "Create a function named `multiplication_table` that takes a number `n` and prints the multiplication table for `n` up to 10 using a `while` loop.\n",
    "\n",
    "### 8. Try Divide\n",
    "Write a function named `try_divide` that takes two numbers and divides the first by the second. Use a `try-except` block to handle division by zero, printing an error message in such cases.\n",
    "\n",
    "### 9. Prime Checker\n",
    "Create a function named `is_prime` that takes a number `n` and returns `True` if `n` is a prime number, `False` otherwise. Use a `for` loop to check divisibility by numbers less than `n`.\n",
    "\n",
    "### 10. Fibonacci Sequence\n",
    "Write a function named `fibonacci` that takes an integer `n` and returns the `n`th Fibonacci number. Use recursion or a loop to implement the function.\n"
   ]
  },
  {
   "cell_type": "code",
   "execution_count": 47,
   "id": "9850d398",
   "metadata": {},
   "outputs": [],
   "source": [
    "def multiplication_table(n):\n",
    "    i = 0\n",
    "    j = 0\n",
    "    while i <= 10 and j <= n: \n",
    "        print(i, end=' ')\n",
    "        i += 1"
   ]
  },
  {
   "cell_type": "code",
   "execution_count": 49,
   "id": "ae527046",
   "metadata": {},
   "outputs": [
    {
     "name": "stdout",
     "output_type": "stream",
     "text": [
      "0 1 2 3 4 5 6 7 8 9 10 "
     ]
    }
   ],
   "source": [
    "multiplication_table(5)"
   ]
  },
  {
   "cell_type": "code",
   "execution_count": null,
   "id": "3a81a6e4",
   "metadata": {},
   "outputs": [],
   "source": [
    "def "
   ]
  }
 ],
 "metadata": {
  "kernelspec": {
   "display_name": "Python 3 (ipykernel)",
   "language": "python",
   "name": "python3"
  },
  "language_info": {
   "codemirror_mode": {
    "name": "ipython",
    "version": 3
   },
   "file_extension": ".py",
   "mimetype": "text/x-python",
   "name": "python",
   "nbconvert_exporter": "python",
   "pygments_lexer": "ipython3",
   "version": "3.7.2"
  }
 },
 "nbformat": 4,
 "nbformat_minor": 5
}
